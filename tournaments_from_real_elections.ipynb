{
 "cells": [
  {
   "cell_type": "markdown",
   "metadata": {},
   "source": [
    "# Majority Graph Statistics"
   ]
  },
  {
   "cell_type": "code",
   "execution_count": 1,
   "metadata": {},
   "outputs": [],
   "source": [
    "import itertools\n",
    "from itertools import combinations\n",
    "import networkx as nx\n",
    "from tqdm.notebook import tqdm  \n",
    "import numpy as np  \n",
    "from pref_voting.profiles_with_ties import ProfileWithTies\n",
    "from pref_voting.io.readers import preflib_to_profile\n",
    "from preflibtools.instances import OrdinalInstance\n",
    "import glob\n",
    "import io\n",
    "from zipfile import ZipFile\n"
   ]
  },
  {
   "cell_type": "code",
   "execution_count": 2,
   "metadata": {},
   "outputs": [],
   "source": [
    "\n",
    "def majority_graph_statistics_four_candidates(\n",
    "        profiles, \n",
    "        use_extended_strict_preference = True,\n",
    "        max_num_candidates = 42): \n",
    "    \n",
    "    linear_order = nx.DiGraph()\n",
    "    linear_order.add_nodes_from(range(4))\n",
    "    linear_order.add_edges_from([(0,1),(0,2), (0,3), (1,2), (1,3), (2,3)]) \n",
    "\n",
    "    bottom_cycle = nx.DiGraph()\n",
    "    bottom_cycle.add_nodes_from(range(4))\n",
    "    bottom_cycle.add_edges_from([(0,1),(0,2), (0,3), (1,2), (2,3), (3,1)])\n",
    "\n",
    "    top_cycle_graph = nx.DiGraph()\n",
    "    top_cycle_graph.add_nodes_from(range(4))\n",
    "    top_cycle_graph.add_edges_from([(0,1),(1,2), (2,0), (0,3), (1,3), (2,3)])\n",
    "\n",
    "    four_cycle = nx.DiGraph()\n",
    "    four_cycle.add_nodes_from(range(4))\n",
    "    four_cycle.add_edges_from([(0,1),(1,2), (2,3), (3,0), (2,0), (1,3)])\n",
    "\n",
    "    count = 0\n",
    "    profile_count = 0\n",
    "    num_voters_list = []\n",
    "    linear_order_count = 0\n",
    "    bottom_cycle_count = 0\n",
    "    top_cycle_count = 0\n",
    "    four_cycle_count = 0\n",
    "\n",
    "    for  prof in tqdm(profiles):\n",
    "        \n",
    "        if use_extended_strict_preference:\n",
    "            prof.use_extended_strict_preference()\n",
    "            \n",
    "        mg = prof.margin_graph()\n",
    "        if len(prof.candidates) > max_num_candidates:\n",
    "            continue\n",
    "\n",
    "        if len(prof.candidates) < 4: \n",
    "            continue\n",
    "\n",
    "        profile_count += 1\n",
    "        num_voters_list.append(prof.num_voters)\n",
    "        \n",
    "        for subset in itertools.combinations(prof.candidates, 4):\n",
    "            # Create a new profile with only the 4 candidates\n",
    "            # Check if there are any zero margins\n",
    "            if any([mg.margin(a,b) == 0 for a in subset for b in subset if a != b]):\n",
    "                continue\n",
    "\n",
    "            count += 1\n",
    "\n",
    "            # Extract the underlying directed graph from mg\n",
    "            g = nx.DiGraph()\n",
    "            g.add_nodes_from(subset)\n",
    "            directed_edges = [(a,b) for (a,b,c) in mg.edges if a in subset and b in subset]\n",
    "            g.add_edges_from(directed_edges)\n",
    "\n",
    "            # Find the appropriate isomorphism type\n",
    "            if nx.is_isomorphic(g, linear_order):\n",
    "                linear_order_count += 1\n",
    "\n",
    "            elif nx.is_isomorphic(g, bottom_cycle):\n",
    "                bottom_cycle_count += 1\n",
    "\n",
    "            elif nx.is_isomorphic(g, top_cycle_graph):\n",
    "                top_cycle_count += 1\n",
    "\n",
    "            elif nx.is_isomorphic(g, four_cycle):\n",
    "                four_cycle_count += 1\n",
    "                \n",
    "            else: # this should never be reached!\n",
    "                print(\"Unknown isomorphism type\")\n",
    "                print(subset)\n",
    "                print(directed_edges)\n",
    "                print(g.edges)\n",
    "\n",
    "    print(f\"There are {profile_count} relevant profiles.\")\n",
    "    print(f\"The average number of voters is {np.mean(num_voters_list)}\")\n",
    "    print(\"Total number of 4-candidate subprofiles with no zero margins:\", count)\n",
    "    print(f\"Linear orders: {(linear_order_count / count)} ({linear_order_count} out of {count})\")\n",
    "    print(f\"Bottom cycles: {(bottom_cycle_count / count)} ({bottom_cycle_count} out of {count})\")\n",
    "    print(f\"Top cycles: {(top_cycle_count / count)} ({top_cycle_count} out of {count})\")\n",
    "    print(f\"Four cycles: {(four_cycle_count / count)} ({four_cycle_count} out of {count})\")\n"
   ]
  },
  {
   "cell_type": "markdown",
   "metadata": {},
   "source": [
    "## Stable Voting Dataset"
   ]
  },
  {
   "cell_type": "code",
   "execution_count": 3,
   "metadata": {},
   "outputs": [
    {
     "data": {
      "application/vnd.jupyter.widget-view+json": {
       "model_id": "8ca6e8910f714fc18cc3643d283ce9df",
       "version_major": 2,
       "version_minor": 0
      },
      "text/plain": [
       "  0%|          | 0/657 [00:00<?, ?it/s]"
      ]
     },
     "metadata": {},
     "output_type": "display_data"
    },
    {
     "name": "stdout",
     "output_type": "stream",
     "text": [
      "There are 304 relevant profiles.\n",
      "The average number of voters is 11.197368421052632\n",
      "Total number of 4-candidate subprofiles with no zero margins: 47326\n",
      "Linear orders: 0.9615433377002071 (45506 out of 47326)\n",
      "Bottom cycles: 0.014135992900308498 (669 out of 47326)\n",
      "Top cycles: 0.017559058445674684 (831 out of 47326)\n",
      "Four cycles: 0.006761610953809745 (320 out of 47326)\n"
     ]
    }
   ],
   "source": [
    "profiles = [ProfileWithTies.read(fname) for fname in glob.glob('real_elections/stable_voting_dataset/*')]\n",
    "\n",
    "majority_graph_statistics_four_candidates(profiles)\n"
   ]
  },
  {
   "cell_type": "markdown",
   "metadata": {},
   "source": [
    "## Preflib Elections"
   ]
  },
  {
   "cell_type": "code",
   "execution_count": 4,
   "metadata": {},
   "outputs": [
    {
     "data": {
      "application/vnd.jupyter.widget-view+json": {
       "model_id": "1d51538fd9874ac9aea8e42a4346351c",
       "version_major": 2,
       "version_minor": 0
      },
      "text/plain": [
       "  0%|          | 0/364 [00:00<?, ?it/s]"
      ]
     },
     "metadata": {},
     "output_type": "display_data"
    },
    {
     "name": "stdout",
     "output_type": "stream",
     "text": [
      "There are 354 relevant profiles.\n",
      "The average number of voters is 45332.0988700565\n",
      "Total number of 4-candidate subprofiles with no zero margins: 44323\n",
      "Linear orders: 0.9993682738081808 (44295 out of 44323)\n",
      "Bottom cycles: 0.0003158630959095729 (14 out of 44323)\n",
      "Top cycles: 0.0003158630959095729 (14 out of 44323)\n",
      "Four cycles: 0.0 (0 out of 44323)\n"
     ]
    }
   ],
   "source": [
    "profiles = []\n",
    "elections = []\n",
    "\n",
    "for fname in glob.glob(\"real_elections/preflib_dataset/*.soi\"):\n",
    "\n",
    "    election_name = fname.split(\"/\")[-1].split(\".\")[0]\n",
    "\n",
    "    if election_name in elections: \n",
    "        continue\n",
    "\n",
    "    elections.append(election_name)\n",
    "    \n",
    "    profiles.append(ProfileWithTies.read(fname))\n",
    "    \n",
    "for fname in glob.glob(\"real_elections/preflib_dataset/*.toi\"):\n",
    "\n",
    "    election_name = fname.split(\"/\")[-1].split(\".\")[0]\n",
    "\n",
    "    if election_name in elections: \n",
    "        continue\n",
    "\n",
    "    elections.append(election_name)\n",
    "    profiles.append(ProfileWithTies.read(fname))\n",
    "\n",
    "for fname in glob.glob(\"real_elections/preflib_dataset/*.toc\"):\n",
    "\n",
    "    election_name = fname.split(\"/\")[-1].split(\".\")[0]\n",
    "\n",
    "    if election_name in elections: \n",
    "        continue\n",
    "\n",
    "    elections.append(election_name)\n",
    "\n",
    "    elections.append(election_name)\n",
    "    profiles.append(ProfileWithTies.read(fname))\n",
    "\n",
    "majority_graph_statistics_four_candidates(profiles)\n"
   ]
  },
  {
   "cell_type": "markdown",
   "metadata": {},
   "source": [
    "## Otis 2022 Dataset"
   ]
  },
  {
   "cell_type": "code",
   "execution_count": 5,
   "metadata": {},
   "outputs": [
    {
     "data": {
      "application/vnd.jupyter.widget-view+json": {
       "model_id": "fc462411ad7c48bc9a1bb77d65809d18",
       "version_major": 2,
       "version_minor": 0
      },
      "text/plain": [
       "  0%|          | 0/458 [00:00<?, ?it/s]"
      ]
     },
     "metadata": {},
     "output_type": "display_data"
    },
    {
     "name": "stderr",
     "output_type": "stream",
     "text": [
      "/Library/Frameworks/Python.framework/Versions/3.11/lib/python3.11/site-packages/pref_voting/io/readers.py:249: DtypeWarning: Columns (1) have mixed types. Specify dtype option on import or set low_memory=False.\n",
      "  df = pd.read_csv(filename)\n",
      "/Library/Frameworks/Python.framework/Versions/3.11/lib/python3.11/site-packages/pref_voting/io/readers.py:249: DtypeWarning: Columns (1) have mixed types. Specify dtype option on import or set low_memory=False.\n",
      "  df = pd.read_csv(filename)\n",
      "/Library/Frameworks/Python.framework/Versions/3.11/lib/python3.11/site-packages/pref_voting/io/readers.py:249: DtypeWarning: Columns (1,5,6) have mixed types. Specify dtype option on import or set low_memory=False.\n",
      "  df = pd.read_csv(filename)\n",
      "/Library/Frameworks/Python.framework/Versions/3.11/lib/python3.11/site-packages/pref_voting/io/readers.py:249: DtypeWarning: Columns (1) have mixed types. Specify dtype option on import or set low_memory=False.\n",
      "  df = pd.read_csv(filename)\n",
      "/Library/Frameworks/Python.framework/Versions/3.11/lib/python3.11/site-packages/pref_voting/io/readers.py:249: DtypeWarning: Columns (1) have mixed types. Specify dtype option on import or set low_memory=False.\n",
      "  df = pd.read_csv(filename)\n",
      "/Library/Frameworks/Python.framework/Versions/3.11/lib/python3.11/site-packages/pref_voting/io/readers.py:249: DtypeWarning: Columns (1) have mixed types. Specify dtype option on import or set low_memory=False.\n",
      "  df = pd.read_csv(filename)\n",
      "/Library/Frameworks/Python.framework/Versions/3.11/lib/python3.11/site-packages/pref_voting/io/readers.py:249: DtypeWarning: Columns (1) have mixed types. Specify dtype option on import or set low_memory=False.\n",
      "  df = pd.read_csv(filename)\n",
      "/Library/Frameworks/Python.framework/Versions/3.11/lib/python3.11/site-packages/pref_voting/io/readers.py:249: DtypeWarning: Columns (1) have mixed types. Specify dtype option on import or set low_memory=False.\n",
      "  df = pd.read_csv(filename)\n",
      "/Library/Frameworks/Python.framework/Versions/3.11/lib/python3.11/site-packages/pref_voting/io/readers.py:249: DtypeWarning: Columns (1) have mixed types. Specify dtype option on import or set low_memory=False.\n",
      "  df = pd.read_csv(filename)\n",
      "/Library/Frameworks/Python.framework/Versions/3.11/lib/python3.11/site-packages/pref_voting/io/readers.py:249: DtypeWarning: Columns (1) have mixed types. Specify dtype option on import or set low_memory=False.\n",
      "  df = pd.read_csv(filename)\n",
      "/Library/Frameworks/Python.framework/Versions/3.11/lib/python3.11/site-packages/pref_voting/io/readers.py:249: DtypeWarning: Columns (1) have mixed types. Specify dtype option on import or set low_memory=False.\n",
      "  df = pd.read_csv(filename)\n",
      "/Library/Frameworks/Python.framework/Versions/3.11/lib/python3.11/site-packages/pref_voting/io/readers.py:249: DtypeWarning: Columns (1) have mixed types. Specify dtype option on import or set low_memory=False.\n",
      "  df = pd.read_csv(filename)\n",
      "/Library/Frameworks/Python.framework/Versions/3.11/lib/python3.11/site-packages/pref_voting/io/readers.py:249: DtypeWarning: Columns (1) have mixed types. Specify dtype option on import or set low_memory=False.\n",
      "  df = pd.read_csv(filename)\n",
      "/Library/Frameworks/Python.framework/Versions/3.11/lib/python3.11/site-packages/pref_voting/io/readers.py:249: DtypeWarning: Columns (1) have mixed types. Specify dtype option on import or set low_memory=False.\n",
      "  df = pd.read_csv(filename)\n",
      "/Library/Frameworks/Python.framework/Versions/3.11/lib/python3.11/site-packages/pref_voting/io/readers.py:249: DtypeWarning: Columns (1) have mixed types. Specify dtype option on import or set low_memory=False.\n",
      "  df = pd.read_csv(filename)\n",
      "/Library/Frameworks/Python.framework/Versions/3.11/lib/python3.11/site-packages/pref_voting/io/readers.py:249: DtypeWarning: Columns (1) have mixed types. Specify dtype option on import or set low_memory=False.\n",
      "  df = pd.read_csv(filename)\n",
      "/Library/Frameworks/Python.framework/Versions/3.11/lib/python3.11/site-packages/pref_voting/io/readers.py:249: DtypeWarning: Columns (1) have mixed types. Specify dtype option on import or set low_memory=False.\n",
      "  df = pd.read_csv(filename)\n",
      "/Library/Frameworks/Python.framework/Versions/3.11/lib/python3.11/site-packages/pref_voting/io/readers.py:249: DtypeWarning: Columns (1) have mixed types. Specify dtype option on import or set low_memory=False.\n",
      "  df = pd.read_csv(filename)\n",
      "/Library/Frameworks/Python.framework/Versions/3.11/lib/python3.11/site-packages/pref_voting/io/readers.py:249: DtypeWarning: Columns (1) have mixed types. Specify dtype option on import or set low_memory=False.\n",
      "  df = pd.read_csv(filename)\n",
      "/Library/Frameworks/Python.framework/Versions/3.11/lib/python3.11/site-packages/pref_voting/io/readers.py:249: DtypeWarning: Columns (1) have mixed types. Specify dtype option on import or set low_memory=False.\n",
      "  df = pd.read_csv(filename)\n",
      "/Library/Frameworks/Python.framework/Versions/3.11/lib/python3.11/site-packages/pref_voting/io/readers.py:249: DtypeWarning: Columns (1) have mixed types. Specify dtype option on import or set low_memory=False.\n",
      "  df = pd.read_csv(filename)\n",
      "/Library/Frameworks/Python.framework/Versions/3.11/lib/python3.11/site-packages/pref_voting/io/readers.py:249: DtypeWarning: Columns (1) have mixed types. Specify dtype option on import or set low_memory=False.\n",
      "  df = pd.read_csv(filename)\n",
      "/Library/Frameworks/Python.framework/Versions/3.11/lib/python3.11/site-packages/pref_voting/io/readers.py:249: DtypeWarning: Columns (1) have mixed types. Specify dtype option on import or set low_memory=False.\n",
      "  df = pd.read_csv(filename)\n",
      "/Library/Frameworks/Python.framework/Versions/3.11/lib/python3.11/site-packages/pref_voting/io/readers.py:249: DtypeWarning: Columns (1) have mixed types. Specify dtype option on import or set low_memory=False.\n",
      "  df = pd.read_csv(filename)\n",
      "/Library/Frameworks/Python.framework/Versions/3.11/lib/python3.11/site-packages/pref_voting/io/readers.py:249: DtypeWarning: Columns (1) have mixed types. Specify dtype option on import or set low_memory=False.\n",
      "  df = pd.read_csv(filename)\n",
      "/Library/Frameworks/Python.framework/Versions/3.11/lib/python3.11/site-packages/pref_voting/io/readers.py:249: DtypeWarning: Columns (1) have mixed types. Specify dtype option on import or set low_memory=False.\n",
      "  df = pd.read_csv(filename)\n",
      "/Library/Frameworks/Python.framework/Versions/3.11/lib/python3.11/site-packages/pref_voting/io/readers.py:249: DtypeWarning: Columns (1) have mixed types. Specify dtype option on import or set low_memory=False.\n",
      "  df = pd.read_csv(filename)\n",
      "/Library/Frameworks/Python.framework/Versions/3.11/lib/python3.11/site-packages/pref_voting/io/readers.py:249: DtypeWarning: Columns (1) have mixed types. Specify dtype option on import or set low_memory=False.\n",
      "  df = pd.read_csv(filename)\n",
      "/Library/Frameworks/Python.framework/Versions/3.11/lib/python3.11/site-packages/pref_voting/io/readers.py:249: DtypeWarning: Columns (1) have mixed types. Specify dtype option on import or set low_memory=False.\n",
      "  df = pd.read_csv(filename)\n",
      "/Library/Frameworks/Python.framework/Versions/3.11/lib/python3.11/site-packages/pref_voting/io/readers.py:249: DtypeWarning: Columns (1) have mixed types. Specify dtype option on import or set low_memory=False.\n",
      "  df = pd.read_csv(filename)\n",
      "/Library/Frameworks/Python.framework/Versions/3.11/lib/python3.11/site-packages/pref_voting/io/readers.py:249: DtypeWarning: Columns (1) have mixed types. Specify dtype option on import or set low_memory=False.\n",
      "  df = pd.read_csv(filename)\n",
      "/Library/Frameworks/Python.framework/Versions/3.11/lib/python3.11/site-packages/pref_voting/io/readers.py:249: DtypeWarning: Columns (1) have mixed types. Specify dtype option on import or set low_memory=False.\n",
      "  df = pd.read_csv(filename)\n",
      "/Library/Frameworks/Python.framework/Versions/3.11/lib/python3.11/site-packages/pref_voting/io/readers.py:249: DtypeWarning: Columns (1) have mixed types. Specify dtype option on import or set low_memory=False.\n",
      "  df = pd.read_csv(filename)\n",
      "/Library/Frameworks/Python.framework/Versions/3.11/lib/python3.11/site-packages/pref_voting/io/readers.py:249: DtypeWarning: Columns (1) have mixed types. Specify dtype option on import or set low_memory=False.\n",
      "  df = pd.read_csv(filename)\n",
      "/Library/Frameworks/Python.framework/Versions/3.11/lib/python3.11/site-packages/pref_voting/io/readers.py:249: DtypeWarning: Columns (1) have mixed types. Specify dtype option on import or set low_memory=False.\n",
      "  df = pd.read_csv(filename)\n",
      "/Library/Frameworks/Python.framework/Versions/3.11/lib/python3.11/site-packages/pref_voting/io/readers.py:249: DtypeWarning: Columns (1) have mixed types. Specify dtype option on import or set low_memory=False.\n",
      "  df = pd.read_csv(filename)\n",
      "/Library/Frameworks/Python.framework/Versions/3.11/lib/python3.11/site-packages/pref_voting/io/readers.py:249: DtypeWarning: Columns (1) have mixed types. Specify dtype option on import or set low_memory=False.\n",
      "  df = pd.read_csv(filename)\n",
      "/Library/Frameworks/Python.framework/Versions/3.11/lib/python3.11/site-packages/pref_voting/io/readers.py:249: DtypeWarning: Columns (1) have mixed types. Specify dtype option on import or set low_memory=False.\n",
      "  df = pd.read_csv(filename)\n",
      "/Library/Frameworks/Python.framework/Versions/3.11/lib/python3.11/site-packages/pref_voting/io/readers.py:249: DtypeWarning: Columns (1) have mixed types. Specify dtype option on import or set low_memory=False.\n",
      "  df = pd.read_csv(filename)\n",
      "/Library/Frameworks/Python.framework/Versions/3.11/lib/python3.11/site-packages/pref_voting/io/readers.py:249: DtypeWarning: Columns (1) have mixed types. Specify dtype option on import or set low_memory=False.\n",
      "  df = pd.read_csv(filename)\n",
      "/Library/Frameworks/Python.framework/Versions/3.11/lib/python3.11/site-packages/pref_voting/io/readers.py:249: DtypeWarning: Columns (1) have mixed types. Specify dtype option on import or set low_memory=False.\n",
      "  df = pd.read_csv(filename)\n",
      "/Library/Frameworks/Python.framework/Versions/3.11/lib/python3.11/site-packages/pref_voting/io/readers.py:249: DtypeWarning: Columns (1) have mixed types. Specify dtype option on import or set low_memory=False.\n",
      "  df = pd.read_csv(filename)\n"
     ]
    },
    {
     "data": {
      "application/vnd.jupyter.widget-view+json": {
       "model_id": "3d8cbdcb9c6b43aeb58fca2512566139",
       "version_major": 2,
       "version_minor": 0
      },
      "text/plain": [
       "  0%|          | 0/458 [00:00<?, ?it/s]"
      ]
     },
     "metadata": {},
     "output_type": "display_data"
    },
    {
     "name": "stdout",
     "output_type": "stream",
     "text": [
      "There are 289 relevant profiles.\n",
      "The average number of voters is 88917.24221453287\n",
      "Total number of 4-candidate subprofiles with no zero margins: 115315\n",
      "Linear orders: 0.9998265620257556 (115295 out of 115315)\n",
      "Bottom cycles: 6.070329098556129e-05 (7 out of 115315)\n",
      "Top cycles: 0.00011273468325889954 (13 out of 115315)\n",
      "Four cycles: 0.0 (0 out of 115315)\n"
     ]
    }
   ],
   "source": [
    "# This will take about 17 minutes to run\n",
    "\n",
    "items_to_skip = [\n",
    "    'skipped', \n",
    "    'overvote', \n",
    "    'undervote']\n",
    "\n",
    "profiles = []\n",
    "\n",
    "for file in tqdm(glob.glob(\"real_elections/otis_2022_dataset/*.zip\")):\n",
    "\n",
    "    if not file.endswith(\".csv\") and not file.endswith(\".zip\"):\n",
    "        continue\n",
    "    # if file ends with .zip unzip the file and process it \n",
    "    if file.endswith(\".zip\"):\n",
    "        with ZipFile(file, 'r') as zip_ref:\n",
    "            # Iterate through each file inside the zip\n",
    "            for name in zip_ref.namelist():\n",
    "                # Only process .csv files\n",
    "                if name.endswith(\".csv\"):\n",
    "                    with zip_ref.open(name) as f:\n",
    "                        # Read the CSV data into memory\n",
    "                        csv_bytes = f.read()\n",
    "                        # Decode bytes to string\n",
    "                        csv_text = csv_bytes.decode('utf-8')\n",
    "                        # Create a file-like StringIO object\n",
    "                        csv_buffer = io.StringIO(csv_text)\n",
    "                        \n",
    "                        # Now pass this StringIO to ProfileWithTies.read\n",
    "                        prof = ProfileWithTies.read(\n",
    "                            csv_buffer,\n",
    "                            file_format='csv',\n",
    "                            csv_format='rank_columns',\n",
    "                            items_to_skip=items_to_skip\n",
    "                        )\n",
    "                        profiles.append(prof)\n",
    "\n",
    "majority_graph_statistics_four_candidates(profiles)\n"
   ]
  },
  {
   "cell_type": "code",
   "execution_count": null,
   "metadata": {},
   "outputs": [],
   "source": []
  }
 ],
 "metadata": {
  "kernelspec": {
   "display_name": "Python 3",
   "language": "python",
   "name": "python3"
  },
  "language_info": {
   "codemirror_mode": {
    "name": "ipython",
    "version": 3
   },
   "file_extension": ".py",
   "mimetype": "text/x-python",
   "name": "python",
   "nbconvert_exporter": "python",
   "pygments_lexer": "ipython3",
   "version": "3.11.6"
  }
 },
 "nbformat": 4,
 "nbformat_minor": 2
}
